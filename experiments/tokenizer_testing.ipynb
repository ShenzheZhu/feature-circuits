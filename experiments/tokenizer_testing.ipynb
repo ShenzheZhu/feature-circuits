{
 "cells": [
  {
   "cell_type": "code",
   "execution_count": 8,
   "metadata": {},
   "outputs": [],
   "source": [
    "import argparse\n",
    "import gc\n",
    "import json\n",
    "import math\n",
    "import os\n",
    "from collections import defaultdict\n",
    "\n",
    "import torch as t\n",
    "from einops import rearrange\n",
    "from tqdm import tqdm\n",
    "\n",
    "from nnsight import LanguageModel\n",
    "\n",
    "device = \"cuda:0\""
   ]
  },
  {
   "cell_type": "code",
   "execution_count": 9,
   "metadata": {},
   "outputs": [
    {
     "data": {
      "application/vnd.jupyter.widget-view+json": {
       "model_id": "964248310d424304b1cdff396657daae",
       "version_major": 2,
       "version_minor": 0
      },
      "text/plain": [
       "Loading checkpoint shards:   0%|          | 0/3 [00:00<?, ?it/s]"
      ]
     },
     "metadata": {},
     "output_type": "display_data"
    }
   ],
   "source": [
    "pythia = LanguageModel(\"../../autodl-tmp/models/pythia-70m-deduped/\", device_map=device, dispatch=True)\n",
    "gemma2 = LanguageModel(\"../../autodl-tmp/models/gemma-2-2b\", device_map=device, dispatch=True)"
   ]
  },
  {
   "cell_type": "code",
   "execution_count": 28,
   "metadata": {},
   "outputs": [],
   "source": [
    "clean_prefix = \"The father that the assistants describe\"\n",
    "patch_prefix = \"go\"\n",
    "clean_prefix_gemma2 = gemma2.tokenizer(clean_prefix, return_tensors=\"pt\",padding=False, add_special_tokens=False).input_ids\n",
    "patch_prefix_gemma2 = gemma2.tokenizer(patch_prefix, return_tensors=\"pt\",padding=False, add_special_tokens=False).input_ids\n"
   ]
  },
  {
   "cell_type": "code",
   "execution_count": 29,
   "metadata": {},
   "outputs": [
    {
     "name": "stdout",
     "output_type": "stream",
     "text": [
      "tensor([[  651,  5842,   674,   573, 58348, 12637]])\n",
      "6\n",
      "tensor([[1052]])\n",
      "1\n"
     ]
    }
   ],
   "source": [
    "print(clean_prefix_gemma2)\n",
    "print(clean_prefix_gemma2.shape[1])\n",
    "\n",
    "print(patch_prefix_gemma2)\n",
    "print(patch_prefix_gemma2.shape[1])"
   ]
  }
 ],
 "metadata": {
  "kernelspec": {
   "display_name": "sfc",
   "language": "python",
   "name": "python3"
  },
  "language_info": {
   "codemirror_mode": {
    "name": "ipython",
    "version": 3
   },
   "file_extension": ".py",
   "mimetype": "text/x-python",
   "name": "python",
   "nbconvert_exporter": "python",
   "pygments_lexer": "ipython3",
   "version": "3.10.16"
  }
 },
 "nbformat": 4,
 "nbformat_minor": 2
}
